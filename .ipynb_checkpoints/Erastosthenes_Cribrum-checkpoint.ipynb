{
 "cells": [
  {
   "cell_type": "markdown",
   "metadata": {},
   "source": [
    "# Домашнее задание\n",
    "\n",
    "Необходимо найти все [простые числа](https://ru.wikipedia.org/wiki/%D0%9F%D1%80%D0%BE%D1%81%D1%82%D0%BE%D0%B5_%D1%87%D0%B8%D1%81%D0%BB%D0%BE) от 2 до N, где N - это число которое должен ввести пользователь. Для поиска простых чисел __необходимо__ использовать [решето Эратосфена](https://ru.wikipedia.org/wiki/%D0%A0%D0%B5%D1%88%D0%B5%D1%82%D0%BE_%D0%AD%D1%80%D0%B0%D1%82%D0%BE%D1%81%D1%84%D0%B5%D0%BD%D0%B0).\n",
    "\n",
    "Все также нужно обрабатывать некорректный ввод пользователя.\n",
    "\n",
    "Каждое полученное простое число должно быть выведено в отдельной строке."
   ]
  },
  {
   "cell_type": "code",
   "execution_count": null,
   "metadata": {},
   "outputs": [],
   "source": [
    "#Прошение ввести число\n",
    "print('Введите число N (натуральное от 2 до хоть скольки)\\n')\n",
    "N_int = 'lol'\n",
    "#зацикливание на ввод заново, если неправильно\n",
    "while type(N_int) == type('lol'):\n",
    "    try:\n",
    "        N = input()\n",
    "        if N == '1' or N == '0' :\n",
    "            N = ''.join([N,'lol'])\n",
    "        N_int = int(N)\n",
    "    except:\n",
    "        #Вывод ошибки\n",
    "        print('Ты дурачок?')\n",
    "\n",
    "print('\\n')\n",
    "#вывод в консоль простых чисел в пределах N\n",
    "i = 1\n",
    "while i != N_int:\n",
    "    i+=1\n",
    "    #проверка на остаток\n",
    "    if i%2!=0 and i%3!=0 and i%5!=0 and i%7!=0 :\n",
    "        print(i)\n",
    "    #учёт самых простых чисел\n",
    "    elif i==2 or i==3 or i==5 or i==7 :\n",
    "        print(i)\n"
   ]
  }
 ],
 "metadata": {
  "kernelspec": {
   "display_name": "Python 3 (ipykernel)",
   "language": "python",
   "name": "python3"
  },
  "language_info": {
   "codemirror_mode": {
    "name": "ipython",
    "version": 3
   },
   "file_extension": ".py",
   "mimetype": "text/x-python",
   "name": "python",
   "nbconvert_exporter": "python",
   "pygments_lexer": "ipython3",
   "version": "3.11.5"
  }
 },
 "nbformat": 4,
 "nbformat_minor": 4
}
